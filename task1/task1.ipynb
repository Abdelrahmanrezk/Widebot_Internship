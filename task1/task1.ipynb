{
 "cells": [
  {
   "cell_type": "markdown",
   "metadata": {},
   "source": [
    "### Imports Libraries"
   ]
  },
  {
   "cell_type": "code",
   "execution_count": 1,
   "metadata": {
    "collapsed": true
   },
   "outputs": [],
   "source": [
    "# !pip install selenium\n",
    "from selenium import webdriver\n",
    "from selenium.webdriver.firefox.options import Options\n",
    "import os\n",
    "import pandas as pd\n",
    "import numpy as np\n",
    "import re\n",
    "import csv\n",
    "import sys\n",
    "from time import sleep\n",
    "from config import *"
   ]
  },
  {
   "cell_type": "code",
   "execution_count": 2,
   "metadata": {
    "collapsed": true
   },
   "outputs": [],
   "source": [
    "try:\n",
    "    current_path = os.path.dirname(os.path.abspath(__file__))\n",
    "except:\n",
    "    current_path = '.'"
   ]
  },
  {
   "cell_type": "code",
   "execution_count": 3,
   "metadata": {
    "collapsed": true
   },
   "outputs": [],
   "source": [
    "def init_driver(gecko_driver='', user_agent='', load_images=True, is_headless=False):\n",
    "    '''\n",
    "        This function is just to set up some of default for browser\n",
    "    '''\n",
    "    firefox_profile = webdriver.FirefoxProfile()\n",
    "    \n",
    "    firefox_profile.set_preference('dom.ipc.plugins.enabled.libflashplayer.so', False)\n",
    "    firefox_profile.set_preference(\"media.volume_scale\", \"0.0\")\n",
    "    firefox_profile.set_preference(\"dom.webnotifications.enabled\", False)\n",
    "    if user_agent != '':\n",
    "        firefox_profile.set_preference(\"general.useragent.override\", user_agent)\n",
    "    if not load_images:\n",
    "        firefox_profile.set_preference('permissions.default.image', 2)\n",
    "\n",
    "    options = Options()\n",
    "    options.headless = is_headless\n",
    "    \n",
    "    driver = webdriver.Firefox(options=options,\n",
    "                               executable_path=f'{current_path}/{gecko_driver}',\n",
    "                               firefox_profile=firefox_profile)\n",
    "    \n",
    "    return driver"
   ]
  },
  {
   "cell_type": "code",
   "execution_count": 4,
   "metadata": {
    "collapsed": true
   },
   "outputs": [],
   "source": [
    "def get_url(url, driver):\n",
    "    '''\n",
    "    Argument:\n",
    "        url of any page to get\n",
    "        driver that was inilized\n",
    "    return:\n",
    "        True\n",
    "    '''\n",
    "    driver.get(url)\n",
    "    sleep(.5)\n",
    "    return True\n",
    "# run the driver\n",
    "driver = init_driver(gecko_driver,user_agent=user_agent)"
   ]
  },
  {
   "cell_type": "code",
   "execution_count": 5,
   "metadata": {},
   "outputs": [
    {
     "name": "stdout",
     "output_type": "stream",
     "text": [
      "https://en.wikipedia.org/wiki/Right-of-way_(transportation)\n",
      "https://en.wikipedia.org/wiki/Easement\n",
      "https://en.wikipedia.org/wiki/Nonpossessory_interest_in_land\n",
      "https://en.wikipedia.org/wiki/Law\n",
      "https://en.wikipedia.org/wiki/System\n",
      "https://en.wikipedia.org/wiki/Interaction\n",
      "https://en.wikipedia.org/wiki/Causality\n",
      "https://en.wikipedia.org/wiki/Causality#cite_note-1\n",
      "We are in the same url !!\n"
     ]
    },
    {
     "data": {
      "text/plain": [
       "False"
      ]
     },
     "execution_count": 5,
     "metadata": {},
     "output_type": "execute_result"
    }
   ],
   "source": [
    "def get_first_url(driver, random_url):\n",
    "    \n",
    "    # get all pargraphs in the main body and avoid others like not in a box\n",
    "    pargraphs = driver.find_elements_by_css_selector('#mw-content-text .mw-parser-output p')\n",
    "    flag = 0\n",
    "    if not len(pargraphs): # check for body without any pargraphs then it will be without any links\n",
    "        print(\"We are in an article without any outgoing Wikilinks !!\")\n",
    "        return False\n",
    "    else:\n",
    "        for i in pargraphs:\n",
    "            # try with the first link we reach in the body of\n",
    "            try:\n",
    "                url = i.find_elements_by_css_selector('a')[0].get_attribute('href')\n",
    "                check_philosophy = re.findall('Getting_to_Philosophy', url)\n",
    "            \n",
    "                if check_philosophy == \"Getting_to_Philosophy\":\n",
    "                    print(\"We are finally reached the Philosophy page is ^^\")\n",
    "                    return False\n",
    "                elif random_url == url:\n",
    "                    print(\"We are in the same url !!\")\n",
    "                    return False\n",
    "                # Once we get a first url we print then break the loop to start with the new link as first link\n",
    "                print(url)\n",
    "                random_url = url\n",
    "                flag = 1\n",
    "                break\n",
    "            except:\n",
    "                pass # because some pargraph does not have a link so we need keep going to first pargraph contain link\n",
    "        if flag: # run the first link function again with the new first link \n",
    "            get_url(random_url ,driver)\n",
    "            get_first_url(driver, random_url)\n",
    "        return False # loop over all pargraph without any going links\n",
    "    \n",
    "\n",
    "get_url(random_url, driver)\n",
    "get_first_url(driver, random_url)\n",
    "    "
   ]
  },
  {
   "cell_type": "code",
   "execution_count": null,
   "metadata": {
    "collapsed": true
   },
   "outputs": [],
   "source": []
  }
 ],
 "metadata": {
  "kernelspec": {
   "display_name": "Python 3",
   "language": "python",
   "name": "python3"
  },
  "language_info": {
   "codemirror_mode": {
    "name": "ipython",
    "version": 3
   },
   "file_extension": ".py",
   "mimetype": "text/x-python",
   "name": "python",
   "nbconvert_exporter": "python",
   "pygments_lexer": "ipython3",
   "version": "3.6.3"
  }
 },
 "nbformat": 4,
 "nbformat_minor": 2
}
